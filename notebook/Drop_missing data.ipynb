{
 "cells": [
  {
   "cell_type": "markdown",
   "id": "002013cf-9f73-4b97-ba2c-ddd108ae04ab",
   "metadata": {},
   "source": [
    "Use AutoClassifier to quickly profile the data and take decision on what to drop"
   ]
  },
  {
   "cell_type": "code",
   "execution_count": 4,
   "id": "aa0a8f26-ba2c-4884-a75b-14832f0cac98",
   "metadata": {
    "scrolled": true
   },
   "outputs": [
    {
     "data": {
      "text/plain": [
       "RIAGENDR                        0\n",
       "RIDAGEYR                        0\n",
       "RACE                            0\n",
       "COUPLE                          0\n",
       "SMOKER                          0\n",
       "EDUC                            0\n",
       "COVERED_INSURANCE               0\n",
       "FAT                             0\n",
       "Abdobesity                      0\n",
       "TOTAL_ACCULTURATION_SCORE_v2    0\n",
       "POVERTIES                       0\n",
       "HTN                             0\n",
       "DIABETIC                        0\n",
       "dtype: int64"
      ]
     },
     "execution_count": 4,
     "metadata": {},
     "output_type": "execute_result"
    }
   ],
   "source": [
    "import pandas as pd\n",
    "df2  = pd.read_csv(\"../data/DIABETIC.csv\")\n",
    "df2.drop(columns=[\"SEQN\",\"COMB\",\"EXPCAN\"],axis=1,inplace=True)\n",
    "df2 = df2.dropna()\n",
    "df2.isnull().sum()"
   ]
  },
  {
   "cell_type": "code",
   "execution_count": 6,
   "id": "f2b07167-7eb9-4109-b37c-ce372b9026e0",
   "metadata": {},
   "outputs": [],
   "source": [
    "# Save the new dataset\n",
    "df2.to_csv(\"../data/DIABETIC_v2.csv\",index=0)"
   ]
  },
  {
   "cell_type": "code",
   "execution_count": null,
   "id": "7b134a6e-6f2a-4785-b4ac-a766595c64bb",
   "metadata": {},
   "outputs": [],
   "source": []
  }
 ],
 "metadata": {
  "kernelspec": {
   "display_name": "Python 3 (ipykernel)",
   "language": "python",
   "name": "python3"
  },
  "language_info": {
   "codemirror_mode": {
    "name": "ipython",
    "version": 3
   },
   "file_extension": ".py",
   "mimetype": "text/x-python",
   "name": "python",
   "nbconvert_exporter": "python",
   "pygments_lexer": "ipython3",
   "version": "3.11.7"
  }
 },
 "nbformat": 4,
 "nbformat_minor": 5
}
